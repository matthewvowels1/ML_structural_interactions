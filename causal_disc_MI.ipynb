{
 "cells": [
  {
   "cell_type": "code",
   "execution_count": 23,
   "metadata": {},
   "outputs": [
    {
     "name": "stdout",
     "output_type": "stream",
     "text": [
      "50\n"
     ]
    },
    {
     "data": {
      "application/vnd.jupyter.widget-view+json": {
       "model_id": "137bd129a9584fc1837179d828c8a1f1",
       "version_major": 2,
       "version_minor": 0
      },
      "text/plain": [
       "  0%|          | 0/5 [00:00<?, ?it/s]"
      ]
     },
     "metadata": {},
     "output_type": "display_data"
    },
    {
     "data": {
      "image/png": "[encoded data removed]",
      "text/plain": [
       "<Figure size 432x288 with 1 Axes>"
      ]
     },
     "metadata": {},
     "output_type": "display_data"
    }
   ],
   "source": [
    "# used pgmpy conda env \n",
    "\n",
    "import numpy as np\n",
    "import pandas as pd\n",
    "import networkx as nx\n",
    "import matplotlib.pyplot as plt\n",
    "import networkx as nx\n",
    "import numpy as np\n",
    "from mi_test_func import*\n",
    "from pc_alg2 import*\n",
    "from pgmpy.estimators import PC  # original implementation \n",
    "\n",
    "\n",
    "\n",
    "def plot_graph(g, labels):\n",
    "    variables = g.nodes\n",
    "\n",
    "    plt.figure(figsize=(10,8))\n",
    "    nx.draw(g, labels=labels,  with_labels=True, \n",
    "            node_color='lightgreen', edge_color='k', \n",
    "            node_size=250, connectionstyle='arc3, rad=.15')   \n",
    "    plt.savefig('results.png', dpi=150)\n",
    "    plt.show()\n",
    "    \n",
    "    \n",
    "N = 5000\n",
    "C = np.random.randn(N,1)   # exogenous cause of X\n",
    "A = 0.8 * np.random.randn(N,1)  # backdoor adjustment variable (also cause of X)\n",
    "K = A + 0.1 * np.random.randn(N,1)  # backdoor adjustment variable (cause of A and Y)\n",
    "X = C - 2*A + 0.2 * np.random.randn(N,1)  # treatment variable\n",
    "F = 3*X + 0.8 * np.random.randn(N,1)  # descendent of treatment variable\n",
    "D = -2*X + 0.5 * np.random.randn(N,1)  # mediator between x and y\n",
    "G = D + 0.5 * np.random.randn(N,1)  # descendent of mediator\n",
    "Y = 2*K - D + 0.2 * np.random.randn(N,1)  # outcome variable \n",
    "H = 0.5*Y + 0.1 * np.random.randn(N,1)  # effect of Y\n",
    "\n",
    "cols = ['C', 'A', 'K', 'X', 'F', 'D', 'G', 'H']\n",
    "\n",
    "predictors = np.concatenate((C, A, K, X, F, D, G, H),1)\n",
    "outcome =  Y[:,0]\n",
    "\n",
    "df = pd.DataFrame(predictors)\n",
    "df.columns = cols\n",
    "df['Y'] = outcome\n",
    "cols.append('Y')\n",
    "\n",
    "\n",
    "\n",
    "# using pgmpy package PC function and pearsonr CI test\n",
    "alpha = 0.1\n",
    "c = PC(df)\n",
    "''' ci_test = {'pearsonr', 'chi_square', 'independence_match'}\n",
    "'''\n",
    "model = c.estimate(ci_test=\"pearsonr\", return_type=\"cpdag\", significance_level=alpha)\n",
    "plt.figure(figsize=(10,8))\n",
    "nx.draw(model, with_labels=True, node_color='white', edge_color='k', \n",
    "            node_size=500, font_size=25)\n",
    "plt.savefig('pc_output_0.1.png')\n",
    "\n",
    "\n",
    "\n",
    "# using the modified PC alg which takes the additional MI based ci tests\n",
    "# TODO: NOT WORKING YET\n",
    "''' ci_test = {'pearsonr', 'chi_square', 'mixed_mi', 'cont_mi', 'independence_match'}\n",
    "'''\n",
    "c = PC_adapted(df)\n",
    "alpha = 10\n",
    "model = c.estimate(ci_test=\"cont_mi\", return_type=\"cpdag\", significance_level=alpha, knn=50)\n",
    "nx.draw(model, with_labels=True)"
   ]
  },
  {
   "cell_type": "code",
   "execution_count": null,
   "metadata": {},
   "outputs": [],
   "source": []
  },
  {
   "cell_type": "code",
   "execution_count": null,
   "metadata": {},
   "outputs": [],
   "source": []
  },
  {
   "cell_type": "code",
   "execution_count": null,
   "metadata": {},
   "outputs": [],
   "source": []
  },
  {
   "cell_type": "code",
   "execution_count": null,
   "metadata": {},
   "outputs": [],
   "source": []
  },
  {
   "cell_type": "code",
   "execution_count": null,
   "metadata": {},
   "outputs": [],
   "source": []
  },
  {
   "cell_type": "code",
   "execution_count": null,
   "metadata": {
    "scrolled": true
   },
   "outputs": [],
   "source": []
  },
  {
   "cell_type": "code",
   "execution_count": null,
   "metadata": {},
   "outputs": [],
   "source": []
  },
  {
   "cell_type": "code",
   "execution_count": null,
   "metadata": {},
   "outputs": [],
   "source": []
  },
  {
   "cell_type": "code",
   "execution_count": 5,
   "metadata": {},
   "outputs": [],
   "source": []
  },
  {
   "cell_type": "code",
   "execution_count": null,
   "metadata": {},
   "outputs": [],
   "source": []
  },
  {
   "cell_type": "code",
   "execution_count": null,
   "metadata": {},
   "outputs": [],
   "source": []
  },
  {
   "cell_type": "code",
   "execution_count": null,
   "metadata": {},
   "outputs": [],
   "source": []
  },
  {
   "cell_type": "code",
   "execution_count": null,
   "metadata": {},
   "outputs": [],
   "source": []
  },
  {
   "cell_type": "code",
   "execution_count": null,
   "metadata": {},
   "outputs": [],
   "source": []
  },
  {
   "cell_type": "code",
   "execution_count": null,
   "metadata": {},
   "outputs": [],
   "source": []
  }
 ],
 "metadata": {
  "kernelspec": {
   "display_name": "Python 3",
   "language": "python",
   "name": "python3"
  },
  "language_info": {
   "codemirror_mode": {
    "name": "ipython",
    "version": 3
   },
   "file_extension": ".py",
   "mimetype": "text/x-python",
   "name": "python",
   "nbconvert_exporter": "python",
   "pygments_lexer": "ipython3",
   "version": "3.7.11"
  }
 },
 "nbformat": 4,
 "nbformat_minor": 5
}
