{
 "cells": [
  {
   "cell_type": "code",
   "execution_count": 3,
   "metadata": {},
   "outputs": [
    {
     "name": "stdout",
     "output_type": "stream",
     "text": [
      "10\n"
     ]
    },
    {
     "data": {
      "application/vnd.jupyter.widget-view+json": {
       "model_id": "daa38337e5cd46ff9e34f7f054ee4258",
       "version_major": 2,
       "version_minor": 0
      },
      "text/plain": [
       "  0%|          | 0/5 [00:00<?, ?it/s]"
      ]
     },
     "metadata": {},
     "output_type": "display_data"
    }
   ],
   "source": [
    "# used pgmpy conda env \n",
    "\n",
    "import numpy as np\n",
    "import pandas as pd\n",
    "import networkx as nx\n",
    "import matplotlib.pyplot as plt\n",
    "import networkx as nx\n",
    "import numpy as np\n",
    "from mi_test_func import*\n",
    "from pc_alg2 import*\n",
    "from pgmpy.estimators import PC  # original implementation \n",
    "\n",
    "\n",
    "\n",
    "def plot_graph(g, labels):\n",
    "    variables = g.nodes\n",
    "\n",
    "    plt.figure(figsize=(10,8))\n",
    "    nx.draw(g, labels=labels,  with_labels=True, \n",
    "            node_color='lightgreen', edge_color='k', \n",
    "            node_size=250, connectionstyle='arc3, rad=.15')   \n",
    "    plt.savefig('results.png', dpi=150)\n",
    "    plt.show()\n",
    "    \n",
    "    \n",
    "N = 5000\n",
    "C = np.random.randn(N,1)   # exogenous cause of X\n",
    "A = 0.8 * np.random.randn(N,1)  # backdoor adjustment variable (also cause of X)\n",
    "K = A + 0.1 * np.random.randn(N,1)  # backdoor adjustment variable (cause of A and Y)\n",
    "X = C - 2*A + 0.2 * np.random.randn(N,1)  # treatment variable\n",
    "F = 3*X + 0.8 * np.random.randn(N,1)  # descendent of treatment variable\n",
    "D = -2*X + 0.5 * np.random.randn(N,1)  # mediator between x and y\n",
    "G = D + 0.5 * np.random.randn(N,1)  # descendent of mediator\n",
    "Y = 2*K - D + 0.2 * np.random.randn(N,1)  # outcome variable \n",
    "H = 0.5*Y + 0.1 * np.random.randn(N,1)  # effect of Y\n",
    "\n",
    "cols = ['C', 'A', 'K', 'X', 'F', 'D', 'G', 'H']\n",
    "\n",
    "predictors = np.concatenate((C, A, K, X, F, D, G, H),1)\n",
    "outcome =  Y[:,0]\n",
    "\n",
    "df = pd.DataFrame(predictors)\n",
    "df.columns = cols\n",
    "df['Y'] = outcome\n",
    "cols.append('Y')\n",
    "df\n",
    "\n",
    "   \n",
    "g_answer = nx.DiGraph()\n",
    "g_answer.add_nodes_from([0, 1, 2, 3, 4, 5, 6, 7, 8])\n",
    "g_answer.add_edges_from([(0, 3), (1, 3), (1, 2), (2,8), (3, 5), (3, 4), (5,6),\n",
    "                             (5, 8), (8, 7)])\n",
    "\n",
    "\n",
    "alpha = 0.01\n",
    "\n",
    "\n",
    "''' ci_test = {'pearsonr', 'chi_square', 'mixed_mi', 'cont_mi', 'independence_match'}\n",
    "'''\n",
    "c = PC_adapted(df)\n",
    "model = c.estimate(ci_test=\"mixed_mi\", return_type=\"cpdag\", significance_level=alpha, knn=10)"
   ]
  },
  {
   "cell_type": "code",
   "execution_count": 10,
   "metadata": {},
   "outputs": [
    {
     "data": {
      "image/png": "[encoded data removed]",
      "text/plain": [
       "<Figure size 432x288 with 1 Axes>"
      ]
     },
     "metadata": {},
     "output_type": "display_data"
    }
   ],
   "source": [
    "nx.draw(model, with_labels=True)"
   ]
  },
  {
   "cell_type": "code",
   "execution_count": null,
   "metadata": {},
   "outputs": [],
   "source": []
  },
  {
   "cell_type": "code",
   "execution_count": null,
   "metadata": {},
   "outputs": [],
   "source": []
  },
  {
   "cell_type": "code",
   "execution_count": null,
   "metadata": {},
   "outputs": [],
   "source": []
  },
  {
   "cell_type": "code",
   "execution_count": null,
   "metadata": {},
   "outputs": [],
   "source": []
  },
  {
   "cell_type": "code",
   "execution_count": null,
   "metadata": {
    "scrolled": true
   },
   "outputs": [],
   "source": []
  },
  {
   "cell_type": "code",
   "execution_count": null,
   "metadata": {},
   "outputs": [],
   "source": []
  },
  {
   "cell_type": "code",
   "execution_count": null,
   "metadata": {},
   "outputs": [],
   "source": []
  },
  {
   "cell_type": "code",
   "execution_count": 5,
   "metadata": {},
   "outputs": [],
   "source": [
    "from pgmpy.estimators import PC"
   ]
  },
  {
   "cell_type": "code",
   "execution_count": 6,
   "metadata": {},
   "outputs": [],
   "source": [
    "c = PC(df)"
   ]
  },
  {
   "cell_type": "code",
   "execution_count": 8,
   "metadata": {},
   "outputs": [
    {
     "name": "stderr",
     "output_type": "stream",
     "text": [
      "Working for n conditional variables: 5: 100%|██████████| 5/5 [00:00<00:00, 14.98it/s]\n"
     ]
    },
    {
     "data": {
      "image/png": "[encoded data removed]",
      "text/plain": [
       "<Figure size 432x288 with 1 Axes>"
      ]
     },
     "metadata": {},
     "output_type": "display_data"
    }
   ],
   "source": [
    "''' ci_test = {'pearsonr', 'chi_square', 'mixed_mi', 'cont_mi', 'independence_match'}\n",
    "'''\n",
    "\n",
    "alpha = 0.01\n",
    "model = c.estimate(ci_test=\"pearsonr\", return_type=\"cpdag\", significance_level=alpha)\n",
    "nx.draw(model, with_labels=True)"
   ]
  },
  {
   "cell_type": "code",
   "execution_count": null,
   "metadata": {},
   "outputs": [],
   "source": []
  },
  {
   "cell_type": "code",
   "execution_count": null,
   "metadata": {},
   "outputs": [],
   "source": []
  },
  {
   "cell_type": "code",
   "execution_count": null,
   "metadata": {},
   "outputs": [],
   "source": []
  },
  {
   "cell_type": "code",
   "execution_count": null,
   "metadata": {},
   "outputs": [],
   "source": []
  },
  {
   "cell_type": "code",
   "execution_count": null,
   "metadata": {},
   "outputs": [],
   "source": []
  }
 ],
 "metadata": {
  "kernelspec": {
   "display_name": "Python 3",
   "language": "python",
   "name": "python3"
  },
  "language_info": {
   "codemirror_mode": {
    "name": "ipython",
    "version": 3
   },
   "file_extension": ".py",
   "mimetype": "text/x-python",
   "name": "python",
   "nbconvert_exporter": "python",
   "pygments_lexer": "ipython3",
   "version": "3.7.11"
  }
 },
 "nbformat": 4,
 "nbformat_minor": 5
}
